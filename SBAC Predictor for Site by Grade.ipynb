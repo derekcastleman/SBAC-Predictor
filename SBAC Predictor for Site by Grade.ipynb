{
 "cells": [
  {
   "cell_type": "markdown",
   "id": "6094a8db",
   "metadata": {},
   "source": [
    "# SBAC Dashboard Predictor\n",
    "\n",
    "The purpose of this Jupyter notebook is to take the raw data file from SBAC and a query from Aeries as well as some inputs, the dashboard prediction for ELA and Math will be calculated. A raw data file will also be generated that gives the Distance From Standard (DFS) for each student."
   ]
  },
  {
   "cell_type": "code",
   "execution_count": null,
   "id": "d3beb870",
   "metadata": {},
   "outputs": [],
   "source": [
    "import numpy as np\n",
    "import pandas as pd"
   ]
  },
  {
   "cell_type": "markdown",
   "id": "1ae20463",
   "metadata": {},
   "source": [
    "## Loading Data\n",
    "\n",
    "__Aeries Query__: LIST STU SC ID CID NM GR LF SPECIALED DISADVANTAGED STU.ETH? STU.RC1? LAC LAC.RD1\n",
    "\n",
    "After running the query through Aeries to get roster and subgroup information, you need to copy the file pathway below as well as the one for the raw SBAC file. The two files will be merged with an inner merge to just leave the students remaining that are enrolled."
   ]
  },
  {
   "cell_type": "code",
   "execution_count": null,
   "id": "f16f3f0d",
   "metadata": {},
   "outputs": [],
   "source": [
    "# LIST STU SC ID CID NM GR LF SPECIALED DISADVANTAGED STU.ETH? STU.RC1? LAC LAC.RD1\n",
    "\n",
    "roster = pd.read_excel(r\"C:\\Users\\derek.castleman\\Desktop\\PrintQueryToExcel_20240711_134159_0135440.xlsx\") # Aeries Query file\n",
    "\n",
    "sbac = pd.read_csv(r\"C:\\Users\\derek.castleman\\Desktop\\SBAC_2021-2022.csv\") # Raw SBAC file"
   ]
  },
  {
   "cell_type": "code",
   "execution_count": null,
   "id": "0398515d",
   "metadata": {},
   "outputs": [],
   "source": [
    "roster"
   ]
  },
  {
   "cell_type": "code",
   "execution_count": null,
   "id": "6b93e98f",
   "metadata": {
    "scrolled": true
   },
   "outputs": [],
   "source": [
    "sbac"
   ]
  },
  {
   "cell_type": "code",
   "execution_count": null,
   "id": "6d87ee70",
   "metadata": {},
   "outputs": [],
   "source": [
    "merge = pd.merge(roster, sbac, how='inner', left_on='State Student ID', right_on='StudentIdentifier')\n",
    "merge"
   ]
  },
  {
   "cell_type": "code",
   "execution_count": null,
   "id": "750906bd",
   "metadata": {},
   "outputs": [],
   "source": [
    "merge = merge.drop_duplicates(subset=['State Student ID', 'Subject'])\n",
    "merge"
   ]
  },
  {
   "cell_type": "code",
   "execution_count": null,
   "id": "2e650f3c",
   "metadata": {},
   "outputs": [],
   "source": [
    "merge.info()"
   ]
  },
  {
   "cell_type": "markdown",
   "id": "aa660aae",
   "metadata": {},
   "source": [
    "## Redesignated English Learners\n",
    "\n",
    "Redesignated English Learners within their first four years are counted toward EL subgroup for the dashboard. In order to properly calculate this group, the number of years between redisgnated and test date will be looked at. Students with less than 4 years between designation and tests will be given a new category RL to allow for them to be found."
   ]
  },
  {
   "cell_type": "code",
   "execution_count": null,
   "id": "f4c51639",
   "metadata": {},
   "outputs": [],
   "source": [
    "# Getting rid of the time and just leaving the date for when the test was submitted\n",
    "merge['SubmitDateTime'] = merge['SubmitDateTime'].apply(lambda x: x.split(' ', 1)[0])\n",
    "merge"
   ]
  },
  {
   "cell_type": "code",
   "execution_count": null,
   "id": "ebce7b6c",
   "metadata": {},
   "outputs": [],
   "source": [
    "# Change submission to datetime\n",
    "merge['SubmitDateTime']= pd.to_datetime(merge['SubmitDateTime']) \n",
    "merge"
   ]
  },
  {
   "cell_type": "code",
   "execution_count": null,
   "id": "a6fedb78",
   "metadata": {},
   "outputs": [],
   "source": [
    "# Selecting only redesignated students\n",
    "reclassified = merge.dropna(subset=['Redes Date'])\n",
    "reclassified"
   ]
  },
  {
   "cell_type": "code",
   "execution_count": null,
   "id": "8d0f38cc",
   "metadata": {},
   "outputs": [],
   "source": [
    "reclassified.info()"
   ]
  },
  {
   "cell_type": "code",
   "execution_count": null,
   "id": "976f7b0b",
   "metadata": {},
   "outputs": [],
   "source": [
    "# Turn redesignated date to a datetime\n",
    "reclassified['Redes Date']= pd.to_datetime(reclassified['Redes Date']) \n",
    "reclassified"
   ]
  },
  {
   "cell_type": "code",
   "execution_count": null,
   "id": "06695136",
   "metadata": {},
   "outputs": [],
   "source": [
    "# Find number of years between redesignation and test\n",
    "reclassified['Years'] = reclassified['SubmitDateTime'].dt.year - reclassified['Redes Date'].dt.year"
   ]
  },
  {
   "cell_type": "code",
   "execution_count": null,
   "id": "05ab90a5",
   "metadata": {},
   "outputs": [],
   "source": [
    "reclassified"
   ]
  },
  {
   "cell_type": "code",
   "execution_count": null,
   "id": "f35b5a3d",
   "metadata": {},
   "outputs": [],
   "source": [
    "# Selecting students under four years of redesignation\n",
    "newly_reclassified = reclassified[reclassified['Years'] < 4]\n",
    "newly_reclassified"
   ]
  },
  {
   "cell_type": "code",
   "execution_count": null,
   "id": "315f1b29",
   "metadata": {},
   "outputs": [],
   "source": [
    "# Selecting students with more than four years after redesignation\n",
    "old_reclassified = reclassified[reclassified['Years'] >= 4]\n",
    "old_reclassified"
   ]
  },
  {
   "cell_type": "code",
   "execution_count": null,
   "id": "5bbc1914",
   "metadata": {},
   "outputs": [],
   "source": [
    "# Categorize newly redesignated as RL\n",
    "newly_reclassified['LangFlu'] = 'RL'\n",
    "newly_reclassified"
   ]
  },
  {
   "cell_type": "code",
   "execution_count": null,
   "id": "d00def49",
   "metadata": {},
   "outputs": [],
   "source": [
    "# Concats the two redesignated dataframes back together\n",
    "reclassified = pd.concat([newly_reclassified, old_reclassified])\n",
    "reclassified"
   ]
  },
  {
   "cell_type": "code",
   "execution_count": null,
   "id": "a65762f9",
   "metadata": {},
   "outputs": [],
   "source": [
    "# Drop the years column\n",
    "reclassified = reclassified.drop('Years', axis=1)\n",
    "reclassified"
   ]
  },
  {
   "cell_type": "code",
   "execution_count": null,
   "id": "d2dc4f50",
   "metadata": {},
   "outputs": [],
   "source": [
    "# Find the non-reclassified students\n",
    "non_reclassified = merge[merge['Redes Date'].isna()]\n",
    "non_reclassified"
   ]
  },
  {
   "cell_type": "code",
   "execution_count": null,
   "id": "6b4972b2",
   "metadata": {},
   "outputs": [],
   "source": [
    "# Combined non-reclassified with the fixed reclassified dataframe\n",
    "merge = pd.concat([non_reclassified, reclassified])\n",
    "merge"
   ]
  },
  {
   "cell_type": "markdown",
   "id": "6efd6c79",
   "metadata": {},
   "source": [
    "## Filtering Data\n",
    "\n",
    "Through a couples of inputs the person using the code can select which school sites they are interested in and if they want to look at a certain subgroup"
   ]
  },
  {
   "cell_type": "code",
   "execution_count": null,
   "id": "ec7d6c11",
   "metadata": {},
   "outputs": [],
   "source": [
    "x = input('What are you interest in (All, Elementary, Secondary, Middle, High?             )') # Input choice of site"
   ]
  },
  {
   "cell_type": "code",
   "execution_count": null,
   "id": "9044bceb",
   "metadata": {},
   "outputs": [],
   "source": [
    "if x == 'All': #Selects all the schools at a site\n",
    "    merge = merge[(merge['School'] == 1) | (merge['School'] == 2) | (merge['School'] == 4) | \n",
    "                 (merge['School'] == 6) | (merge['School'] == 7) | (merge['School'] == 8)]\n",
    "elif x == 'Elementary': #Selects just elementary schools\n",
    "    merge = merge[(merge['School'] == 4) | (merge['School'] == 6)]\n",
    "elif x == 'Secondary': # Selects the middle and high school\n",
    "    merge = merge[(merge['School'] == 1) | (merge['School'] == 2) | (merge['School'] == 7) | (merge['School'] == 8)]\n",
    "elif x == 'Middle': # Selects just the middle school\n",
    "    merge = merge[(merge['School'] == 7) | (merge['School'] == 2)]\n",
    "elif x == 'High': # Selects just the high school\n",
    "    merge = merge[(merge['School'] == 1) | (merge['School'] == 6)]"
   ]
  },
  {
   "cell_type": "code",
   "execution_count": null,
   "id": "7388e4d9",
   "metadata": {},
   "outputs": [],
   "source": [
    "merge"
   ]
  },
  {
   "cell_type": "code",
   "execution_count": null,
   "id": "bf7dad3f",
   "metadata": {},
   "outputs": [],
   "source": [
    "y = input('All or Subgroups (All, EL, SPED, SED, Hispanic, White, Filipino?             )') # Input subgroup"
   ]
  },
  {
   "cell_type": "code",
   "execution_count": null,
   "id": "5e91adbc",
   "metadata": {},
   "outputs": [],
   "source": [
    "if y == 'All':\n",
    "    merge = merge\n",
    "elif y == 'EL': # Selects EL and newly redesignated students\n",
    "    merge = merge[(merge['LangFlu'] == 'L') | (merge['LangFlu'] == 'RL') ]\n",
    "elif y == 'SPED': # Selects SPED students\n",
    "    merge = merge[merge['SPECIALED Value'] == 'Yes']\n",
    "elif y == 'SED': # Selects socioeconomic disadvantaged\n",
    "    merge = merge[merge['DISADVANTAGED Value'] == 'Yes']\n",
    "elif y == 'Hispanic': # Selectes Hispanic students\n",
    "    merge = merge[merge['HispanicOrLatinoEthnicity'] == 'Yes']\n",
    "elif y == 'White': # Selects white students\n",
    "    merge = merge[merge['White'] == 'Yes']\n",
    "elif y == 'Filipino': # Selects Filipino students\n",
    "    merge = merge[merge['Filipino'] == 'Yes']"
   ]
  },
  {
   "cell_type": "code",
   "execution_count": null,
   "id": "3a095836",
   "metadata": {},
   "outputs": [],
   "source": [
    "merge"
   ]
  },
  {
   "cell_type": "markdown",
   "id": "2ab70017",
   "metadata": {},
   "source": [
    "## ELA\n",
    "\n",
    "The SBAC test will first be selected for ELA and the columns cut down to just the student information and performance. A function is created to create a column that will calculate the DFS for a student based on their grade and performance of SBAC. A sum of the DFS will be generated.\n",
    "\n",
    "An input will allow for the amount of loss that wants to be included in the calculation.\n",
    "\n",
    "The ELA predictor for the dashboard will be calculated by adding the sum to the loss and then dividing by the total number of students added to the count of loss."
   ]
  },
  {
   "cell_type": "code",
   "execution_count": null,
   "id": "7456de9d",
   "metadata": {},
   "outputs": [],
   "source": [
    "ela = merge[merge['Subject'] == 'ELA'] # Select ELA\n",
    "ela"
   ]
  },
  {
   "cell_type": "code",
   "execution_count": null,
   "id": "6bffe763",
   "metadata": {},
   "outputs": [],
   "source": [
    "ela = ela[ela['AssessmentType'] == 'Summative'] # Select the summative SBAC\n",
    "ela"
   ]
  },
  {
   "cell_type": "code",
   "execution_count": null,
   "id": "5485adc4",
   "metadata": {},
   "outputs": [],
   "source": [
    "ela = ela[['School', 'Student ID', 'Student Name', 'GradeLevelWhenAssessed', 'Subject', 'LangFlu', 'SPECIALED Value', \n",
    "          'DISADVANTAGED Value', 'Description_STU_ETH', 'Description_STU_RC1', 'ScaleScoreAchievementLevel', \n",
    "          'ScaleScore']] # Cut it down to columns of interest\n",
    "ela"
   ]
  },
  {
   "cell_type": "code",
   "execution_count": null,
   "id": "1aa8e55b",
   "metadata": {},
   "outputs": [],
   "source": [
    "ela.info()"
   ]
  },
  {
   "cell_type": "code",
   "execution_count": null,
   "id": "9c8619f4",
   "metadata": {},
   "outputs": [],
   "source": [
    "# Create a function that selects the grade levels for site and generates a DFS column based on grade level\n",
    "if x == 'All':\n",
    "    a = ela[ela['GradeLevelWhenAssessed'] == '3']\n",
    "    a['DFS'] = a['ScaleScore'] - 2432\n",
    "    b = ela[ela['GradeLevelWhenAssessed'] =='4']\n",
    "    b['DFS'] = b['ScaleScore'] - 2473\n",
    "    c = ela[ela['GradeLevelWhenAssessed'] =='5']\n",
    "    c['DFS'] = c['ScaleScore'] - 2502\n",
    "    d = ela[ela['GradeLevelWhenAssessed'] == '6']\n",
    "    d['DFS'] = d['ScaleScore'] - 2531\n",
    "    e = ela[ela['GradeLevelWhenAssessed'] == '7']\n",
    "    e['DFS'] = e['ScaleScore'] - 2552\n",
    "    f = ela[ela['GradeLevelWhenAssessed'] == '8']\n",
    "    f['DFS'] = f['ScaleScore'] - 2567\n",
    "    g = ela[ela['GradeLevelWhenAssessed'] == '11']\n",
    "    g['DFS'] = g['ScaleScore'] - 2583\n",
    "    ela = pd.concat([a, b, c, d, e, f, g])\n",
    "elif x == 'Elementary':\n",
    "    a = ela[ela['GradeLevelWhenAssessed'] == 3]\n",
    "    a['DFS'] = a['ScaleScore'] - 2432\n",
    "    b = ela[ela['GradeLevelWhenAssessed'] == 4]\n",
    "    b['DFS'] = b['ScaleScore'] - 2473\n",
    "    c = ela[ela['GradeLevelWhenAssessed'] == 5]\n",
    "    c['DFS'] = c['ScaleScore'] - 2502\n",
    "    d = ela[ela['GradeLevelWhenAssessed'] == 6]\n",
    "    d['DFS'] = d['ScaleScore'] - 2531\n",
    "    ela = pd.concat([a, b, c, d])\n",
    "elif x == 'Secondary':\n",
    "    e = ela[ela['GradeLevelWhenAssessed'] == 7]\n",
    "    e['DFS'] = e['ScaleScore'] - 2552\n",
    "    f = ela[ela['GradeLevelWhenAssessed'] == 8]\n",
    "    f['DFS'] = f['ScaleScore'] - 2567\n",
    "    g = ela[ela['GradeLevelWhenAssessed'] == 11]\n",
    "    g['DFS'] = g['ScaleScore'] - 2583\n",
    "    ela = pd.concat([e, f, g])\n",
    "elif x == 'Middle':\n",
    "    d = ela[ela['GradeLevelWhenAssessed'] == 6]\n",
    "    d['DFS'] = d['ScaleScore'] - 2531\n",
    "    e = ela[ela['GradeLevelWhenAssessed'] == 7]\n",
    "    e['DFS'] = e['ScaleScore'] - 2552\n",
    "    f = ela[ela['GradeLevelWhenAssessed'] == 8]\n",
    "    f['DFS'] = f['ScaleScore'] - 2567\n",
    "    ela = pd.concat([d, e, f])\n",
    "elif x == 'High':\n",
    "    g = ela[ela['GradeLevelWhenAssessed'] == 11]\n",
    "    g['DFS'] = g['ScaleScore'] - 2583\n",
    "    ela = g"
   ]
  },
  {
   "cell_type": "code",
   "execution_count": null,
   "id": "9de5c4d2",
   "metadata": {
    "scrolled": true
   },
   "outputs": [],
   "source": [
    "ela"
   ]
  },
  {
   "cell_type": "code",
   "execution_count": null,
   "id": "99175c99",
   "metadata": {},
   "outputs": [],
   "source": [
    "ela_dashboard = ela.groupby(['GradeLevelWhenAssessed'])['DFS'].mean().reset_index\n",
    "ela_dashboard"
   ]
  },
  {
   "cell_type": "code",
   "execution_count": null,
   "id": "862db791",
   "metadata": {},
   "outputs": [],
   "source": [
    "ela_number = ela.groupby(['GradeLevelWhenAssessed'])['DFS'].count().reset_index\n",
    "ela_number"
   ]
  },
  {
   "cell_type": "markdown",
   "id": "e2c68523",
   "metadata": {},
   "source": [
    "## Math\n",
    "\n",
    "The same steps that were followed for the ELA section will now be done for the Math portion of the test"
   ]
  },
  {
   "cell_type": "code",
   "execution_count": null,
   "id": "089696e9",
   "metadata": {},
   "outputs": [],
   "source": [
    "math = merge[merge['Subject'] == 'Math'] # Selects for Math\n",
    "math"
   ]
  },
  {
   "cell_type": "code",
   "execution_count": null,
   "id": "95ecb0c2",
   "metadata": {},
   "outputs": [],
   "source": [
    "math = math[math['AssessmentType'] == 'Summative'] # Selects the summative SBAC\n",
    "math"
   ]
  },
  {
   "cell_type": "code",
   "execution_count": null,
   "id": "52987777",
   "metadata": {},
   "outputs": [],
   "source": [
    "math = math[['School', 'Student ID', 'Student Name', 'GradeLevelWhenAssessed', 'Subject', 'LangFlu', 'SPECIALED Value', \n",
    "          'DISADVANTAGED Value', 'Description_STU_ETH', 'Description_STU_RC1', 'ScaleScoreAchievementLevel', \n",
    "          'ScaleScore']] # Selects the columns of interest\n",
    "math"
   ]
  },
  {
   "cell_type": "code",
   "execution_count": null,
   "id": "1b888bcb",
   "metadata": {},
   "outputs": [],
   "source": [
    "math.info()"
   ]
  },
  {
   "cell_type": "code",
   "execution_count": null,
   "id": "2c416445",
   "metadata": {},
   "outputs": [],
   "source": [
    "# Create a function the generates a column for the DFS based on the grade level of a student.\n",
    "if x == 'All':\n",
    "    a = math[math['GradeLevelWhenAssessed'] == '03']\n",
    "    a['DFS'] = a['ScaleScore'] - 2436\n",
    "    b = math[math['GradeLevelWhenAssessed'] == '04']\n",
    "    b['DFS'] = b['ScaleScore'] - 2485\n",
    "    c = math[math['GradeLevelWhenAssessed'] == '05']\n",
    "    c['DFS'] = c['ScaleScore'] - 2528\n",
    "    d = math[math['GradeLevelWhenAssessed'] == '06']\n",
    "    d['DFS'] = d['ScaleScore'] - 2552\n",
    "    e = math[math['GradeLevelWhenAssessed'] == '07']\n",
    "    e['DFS'] = e['ScaleScore'] - 2567\n",
    "    f = math[math['GradeLevelWhenAssessed'] == '08']\n",
    "    f['DFS'] = f['ScaleScore'] - 2586\n",
    "    g = math[math['GradeLevelWhenAssessed'] == '11']\n",
    "    g['DFS'] = g['ScaleScore'] - 2628\n",
    "    math = pd.concat([a, b, c, d, e, f, g])\n",
    "elif x == 'Elementary':\n",
    "    a = math[math['GradeLevelWhenAssessed'] == 3]\n",
    "    a['DFS'] = a['ScaleScore'] - 2436\n",
    "    b = math[math['GradeLevelWhenAssessed'] == 4]\n",
    "    b['DFS'] = b['ScaleScore'] - 2485\n",
    "    c = math[math['GradeLevelWhenAssessed'] == 5]\n",
    "    c['DFS'] = c['ScaleScore'] - 2528\n",
    "    d = math[math['GradeLevelWhenAssessed'] == 6]\n",
    "    d['DFS'] = d['ScaleScore'] - 2552\n",
    "    math = pd.concat([a, b, c, d])\n",
    "elif x == 'Secondary':\n",
    "    e = math[math['GradeLevelWhenAssessed'] == 7]\n",
    "    e['DFS'] = e['ScaleScore'] - 2567\n",
    "    f = math[math['GradeLevelWhenAssessed'] == 8]\n",
    "    f['DFS'] = f['ScaleScore'] - 2586\n",
    "    g = math[math['GradeLevelWhenAssessed'] == 11]\n",
    "    g['DFS'] = g['ScaleScore'] - 2628\n",
    "    math = pd.concat([e, f, g])\n",
    "elif x == 'Middle':\n",
    "    d = math[math['GradeLevelWhenAssessed'] == 6]\n",
    "    d['DFS'] = d['ScaleScore'] - 2552\n",
    "    e = math[math['GradeLevelWhenAssessed'] == 7]\n",
    "    e['DFS'] = e['ScaleScore'] - 2567\n",
    "    f = math[math['GradeLevelWhenAssessed'] == 8]\n",
    "    f['DFS'] = f['ScaleScore'] - 2586\n",
    "    math = pd.concat([d, e, f])\n",
    "elif x == 'High':\n",
    "    g = math[math['GradeLevelWhenAssessed'] == 11]\n",
    "    g['DFS'] = g['ScaleScore'] - 2628\n",
    "    math = g"
   ]
  },
  {
   "cell_type": "code",
   "execution_count": null,
   "id": "3a0c228d",
   "metadata": {
    "scrolled": true
   },
   "outputs": [],
   "source": [
    "math"
   ]
  },
  {
   "cell_type": "code",
   "execution_count": null,
   "id": "e9f34185",
   "metadata": {},
   "outputs": [],
   "source": [
    "math_dashboard = math.groupby(['GradeLevelWhenAssessed'])['DFS'].mean().reset_index\n",
    "math_dashboard"
   ]
  },
  {
   "cell_type": "code",
   "execution_count": null,
   "id": "280919b0",
   "metadata": {},
   "outputs": [],
   "source": [
    "math_number = math.groupby(['GradeLevelWhenAssessed'])['DFS'].count().reset_index\n",
    "math_number"
   ]
  },
  {
   "cell_type": "code",
   "execution_count": null,
   "id": "ffc8a10f",
   "metadata": {},
   "outputs": [],
   "source": [
    "# Create one final datatable with ELA and Math and DFS for students\n",
    "final = pd.concat([ela, math])\n",
    "final"
   ]
  },
  {
   "cell_type": "code",
   "execution_count": null,
   "id": "19fbf69c",
   "metadata": {},
   "outputs": [],
   "source": [
    "final['LangFlu'] = final['LangFlu'].replace('RL', 'R') # Replaces RL students with original R\n",
    "final"
   ]
  },
  {
   "cell_type": "code",
   "execution_count": null,
   "id": "4867d36e",
   "metadata": {},
   "outputs": [],
   "source": [
    "import base64\n",
    "from IPython.display import HTML\n",
    "\n",
    "def create_download_link( df, title = \"SBAC Student DFS\", filename = \"SBAC Student DFS\"):\n",
    "    csv = df.to_csv(index=False)\n",
    "    b64 = base64.b64encode(csv.encode())\n",
    "    payload = b64.decode()\n",
    "    html = '<a download=\"{filename}\" href=\"data:text/csv;base64,{payload}\" target=\"_blank\">{title}</a>'\n",
    "    html = html.format(payload=payload,title=title,filename=filename)\n",
    "    return HTML(html)\n",
    "\n",
    "create_download_link(final)"
   ]
  },
  {
   "cell_type": "code",
   "execution_count": null,
   "id": "748fc968",
   "metadata": {},
   "outputs": [],
   "source": [
    "# ELA dashboard prediction\n",
    "ela_dashboard"
   ]
  },
  {
   "cell_type": "code",
   "execution_count": null,
   "id": "2b30866b",
   "metadata": {},
   "outputs": [],
   "source": [
    "ela_number"
   ]
  },
  {
   "cell_type": "code",
   "execution_count": null,
   "id": "3acb93b1",
   "metadata": {},
   "outputs": [],
   "source": [
    "# Math dashboard prediction\n",
    "math_dashboard"
   ]
  },
  {
   "cell_type": "code",
   "execution_count": null,
   "id": "70a47a83",
   "metadata": {},
   "outputs": [],
   "source": [
    "math_number"
   ]
  }
 ],
 "metadata": {
  "kernelspec": {
   "display_name": "Python 3 (ipykernel)",
   "language": "python",
   "name": "python3"
  },
  "language_info": {
   "codemirror_mode": {
    "name": "ipython",
    "version": 3
   },
   "file_extension": ".py",
   "mimetype": "text/x-python",
   "name": "python",
   "nbconvert_exporter": "python",
   "pygments_lexer": "ipython3",
   "version": "3.9.7"
  }
 },
 "nbformat": 4,
 "nbformat_minor": 5
}
