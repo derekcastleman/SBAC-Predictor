{
 "cells": [
  {
   "cell_type": "markdown",
   "id": "fedcf8b5",
   "metadata": {},
   "source": [
    "# CAST Dashboard Predictor\n",
    "\n",
    "The purpose of this Jupyter notebook is to take the raw file for the CAST scores and then to calculate the DFS for each student allowing for a prediction for the dashboard and the various subgroups."
   ]
  },
  {
   "cell_type": "code",
   "execution_count": null,
   "id": "cfeda3b1",
   "metadata": {},
   "outputs": [],
   "source": [
    "import numpy as np\n",
    "import pandas as pd"
   ]
  },
  {
   "cell_type": "markdown",
   "id": "03c13448",
   "metadata": {},
   "source": [
    "## Loading Data\n",
    "\n",
    "__Aeries Query__: LIST STU SC ID CID NM GR LF SPECIALED DISADVANTAGED STU.ETH? STU.RC1? LAC LAC.RD1\n",
    "\n",
    "After running the query through Aeries to get roster and subgroup information, you need to copy the file pathway below as well as the one for the raw CAST file. The two files will be merged with an inner merge to just leave the students remaining that are enrolled."
   ]
  },
  {
   "cell_type": "code",
   "execution_count": null,
   "id": "e5d33d3b",
   "metadata": {},
   "outputs": [],
   "source": [
    "# LIST STU SC ID CID NM GR LF SPECIALED DISADVANTAGED STU.ETH? STU.RC1? LAC LAC.RD1\n",
    "\n",
    "roster = pd.read_excel(r\"C:\\Users\\derek.castleman\\Desktop\\CAST Roster.xlsx\") # Aeries Query file\n",
    "\n",
    "cast = pd.read_csv(r\"C:\\Users\\derek.castleman\\Desktop\\CERS_SBAC_2023-24_6_20_24ALL.csv\") # Raw CAST file"
   ]
  },
  {
   "cell_type": "code",
   "execution_count": null,
   "id": "43ef1d95",
   "metadata": {},
   "outputs": [],
   "source": [
    "roster"
   ]
  },
  {
   "cell_type": "code",
   "execution_count": null,
   "id": "bb26cbec",
   "metadata": {},
   "outputs": [],
   "source": [
    "cast"
   ]
  },
  {
   "cell_type": "code",
   "execution_count": null,
   "id": "b87ec0e1",
   "metadata": {},
   "outputs": [],
   "source": [
    "merge = pd.merge(roster, cast, how='inner', left_on='State Student ID', right_on='StudentIdentifier')\n",
    "merge"
   ]
  },
  {
   "cell_type": "code",
   "execution_count": null,
   "id": "8da7679c",
   "metadata": {},
   "outputs": [],
   "source": [
    "merge = merge.drop_duplicates(subset=['State Student ID', 'Subject', 'AssessmentType'])\n",
    "merge"
   ]
  },
  {
   "cell_type": "markdown",
   "id": "9c6bbaba",
   "metadata": {},
   "source": [
    "## Redesignated English Learners\n",
    "\n",
    "Redesignated English Learners within their first four years are counted toward EL subgroup for the dashboard. In order to properly calculate this group, the number of years between redesignated and test date will be looked at. Students with less than 4 years between designation and tests will be given a new category RL to allow for them to be found."
   ]
  },
  {
   "cell_type": "code",
   "execution_count": null,
   "id": "0d897ee0",
   "metadata": {},
   "outputs": [],
   "source": [
    "merge['SubmitDateTime'] = merge['SubmitDateTime'].apply(lambda x: x.split(' ', 1)[0])\n",
    "merge"
   ]
  },
  {
   "cell_type": "code",
   "execution_count": null,
   "id": "fc4a4c38",
   "metadata": {},
   "outputs": [],
   "source": [
    "# Change submission to datetime\n",
    "merge['SubmitDateTime']= pd.to_datetime(merge['SubmitDateTime']) \n",
    "merge"
   ]
  },
  {
   "cell_type": "code",
   "execution_count": null,
   "id": "4ff2f413",
   "metadata": {},
   "outputs": [],
   "source": [
    "# Selecting only redesignated students\n",
    "reclassified = merge.dropna(subset=['Redes Date'])\n",
    "reclassified"
   ]
  },
  {
   "cell_type": "code",
   "execution_count": null,
   "id": "8edff90b",
   "metadata": {},
   "outputs": [],
   "source": [
    "# Turn redesignated date to a datetime\n",
    "reclassified['Redes Date']= pd.to_datetime(reclassified['Redes Date']) \n",
    "reclassified"
   ]
  },
  {
   "cell_type": "code",
   "execution_count": null,
   "id": "6a7ae361",
   "metadata": {},
   "outputs": [],
   "source": [
    "# Find number of years between redesignation and test\n",
    "reclassified['Years'] = reclassified['SubmitDateTime'].dt.year - reclassified['Redes Date'].dt.year"
   ]
  },
  {
   "cell_type": "code",
   "execution_count": null,
   "id": "af724027",
   "metadata": {},
   "outputs": [],
   "source": [
    "reclassified"
   ]
  },
  {
   "cell_type": "code",
   "execution_count": null,
   "id": "ba5bc271",
   "metadata": {},
   "outputs": [],
   "source": [
    "# Selecting students under four years of redesignation\n",
    "newly_reclassified = reclassified[reclassified['Years'] < 4]\n",
    "newly_reclassified"
   ]
  },
  {
   "cell_type": "code",
   "execution_count": null,
   "id": "d9ec5cd3",
   "metadata": {},
   "outputs": [],
   "source": [
    "# Selecting students with more than four years after redesignation\n",
    "old_reclassified = reclassified[reclassified['Years'] >= 4]\n",
    "old_reclassified"
   ]
  },
  {
   "cell_type": "code",
   "execution_count": null,
   "id": "be7546c9",
   "metadata": {},
   "outputs": [],
   "source": [
    "# Categorize newly redesignated as RL\n",
    "newly_reclassified['LangFlu'] = 'RL'\n",
    "newly_reclassified"
   ]
  },
  {
   "cell_type": "code",
   "execution_count": null,
   "id": "744c7514",
   "metadata": {},
   "outputs": [],
   "source": [
    "# Concats the two redesignated dataframes back together\n",
    "reclassified = pd.concat([newly_reclassified, old_reclassified])\n",
    "reclassified"
   ]
  },
  {
   "cell_type": "code",
   "execution_count": null,
   "id": "79bf8982",
   "metadata": {},
   "outputs": [],
   "source": [
    "# Drop the years column\n",
    "reclassified = reclassified.drop('Years', axis=1)\n",
    "reclassified"
   ]
  },
  {
   "cell_type": "code",
   "execution_count": null,
   "id": "f8030f22",
   "metadata": {},
   "outputs": [],
   "source": [
    "# Find the non-reclassified students\n",
    "non_reclassified = merge[merge['Redes Date'].isna()]\n",
    "non_reclassified"
   ]
  },
  {
   "cell_type": "code",
   "execution_count": null,
   "id": "eae002d3",
   "metadata": {},
   "outputs": [],
   "source": [
    "# Combined non-reclassified with the fixed reclassified dataframe\n",
    "merge = pd.concat([non_reclassified, reclassified])\n",
    "merge"
   ]
  },
  {
   "cell_type": "markdown",
   "id": "09b5209b",
   "metadata": {},
   "source": [
    "## Selects Group of Interest\n",
    "\n",
    "Several inputs are then asked which allows for the selection of particular schools of interest as well as any subgroups that want to be looked at."
   ]
  },
  {
   "cell_type": "code",
   "execution_count": null,
   "id": "fff9504c",
   "metadata": {},
   "outputs": [],
   "source": [
    "x = input('What are you interest in (All, Elementary, Secondary, Middle, High?             )') # Input choice of site"
   ]
  },
  {
   "cell_type": "code",
   "execution_count": null,
   "id": "67519a29",
   "metadata": {},
   "outputs": [],
   "source": [
    "if x == 'All': #Selects all the schools at a site\n",
    "    merge = merge[(merge['School'] == 1) | (merge['School'] == 2) | (merge['School'] == 4) | \n",
    "                 (merge['School'] == 6) | (merge['School'] == 7) | (merge['School'] == 8)]\n",
    "elif x == 'Elementary': #Selects just elementary schools\n",
    "    merge = merge[(merge['School'] == 4) | (merge['School'] == 6)]\n",
    "elif x == 'Secondary': # Selects the middle and high school\n",
    "    merge = merge[(merge['School'] == 1) | (merge['School'] == 2) | (merge['School'] == 7) | (merge['School'] == 8)]\n",
    "elif x == 'Middle': # Selects just the middle school\n",
    "    merge = merge[(merge['School'] == 7) | (merge['School'] == 2)]\n",
    "elif x == 'High': # Selects just the high school\n",
    "    merge = merge[(merge['School'] == 1) | (merge['School'] == 8)]"
   ]
  },
  {
   "cell_type": "code",
   "execution_count": null,
   "id": "64d90a19",
   "metadata": {},
   "outputs": [],
   "source": [
    "merge"
   ]
  },
  {
   "cell_type": "code",
   "execution_count": null,
   "id": "40174e7c",
   "metadata": {},
   "outputs": [],
   "source": [
    "y = input('All or Subgroups (All, EL, , LTEL, SPED, SED, Hispanic, White, Filipino?             )') # Input subgroup"
   ]
  },
  {
   "cell_type": "code",
   "execution_count": null,
   "id": "73b352e0",
   "metadata": {},
   "outputs": [],
   "source": [
    "if y == 'All':\n",
    "    merge = merge\n",
    "elif y == 'EL': # Selects EL and newly redesignated students\n",
    "    merge = merge[(merge['LangFlu'] == 'L') | (merge['LangFlu'] == 'RL') ]\n",
    "elif y == 'SPED': # Selects SPED students\n",
    "    merge = merge[merge['SPECIALED Value'] == 'Yes']\n",
    "elif y == 'SED': # Selects socioeconomic disadvantaged\n",
    "    merge = merge[merge['DISADVANTAGED Value'] == 'Yes']\n",
    "elif y == 'Hispanic': # Selectes Hispanic students\n",
    "    merge = merge[merge['HispanicOrLatinoEthnicity'] == 'Yes']\n",
    "elif y == 'White': # Selects white students\n",
    "    merge = merge[merge['White'] == 'Yes']\n",
    "elif y == 'Filipino': # Selects Filipino students\n",
    "    merge = merge[merge['Filipino'] == 'Yes']\n",
    "elif y == 'LTEL': # Selects EL and newly redesignated students\n",
    "    merge = merge[(merge['LangFlu'] == 'L') & (merge['Grade'] > 6) ]"
   ]
  },
  {
   "cell_type": "code",
   "execution_count": null,
   "id": "845882b4",
   "metadata": {},
   "outputs": [],
   "source": [
    "merge"
   ]
  },
  {
   "cell_type": "markdown",
   "id": "792928a9",
   "metadata": {},
   "source": [
    "## DFS for CAST\n",
    "\n",
    "The summative CAST will be selected. Then based on the grade level that a student is in the DFS will be calculated for them "
   ]
  },
  {
   "cell_type": "code",
   "execution_count": null,
   "id": "170293d1",
   "metadata": {},
   "outputs": [],
   "source": [
    "cast = merge[merge['Subject'] == 'CAST'] # Select CAST\n",
    "cast"
   ]
  },
  {
   "cell_type": "code",
   "execution_count": null,
   "id": "12387a98",
   "metadata": {},
   "outputs": [],
   "source": [
    "cast = cast[cast['AssessmentType'] == 'Summative'] # Select the summative CAST\n",
    "cast"
   ]
  },
  {
   "cell_type": "code",
   "execution_count": null,
   "id": "96d9958f",
   "metadata": {},
   "outputs": [],
   "source": [
    "cast = cast[['School', 'Student ID', 'Student Name', 'GradeLevelWhenAssessed', 'Subject', 'LangFlu', 'SPECIALED Value', \n",
    "          'DISADVANTAGED Value', 'Description_STU_ETH', 'Description_STU_RC1', 'ScaleScoreAchievementLevel', \n",
    "          'ScaleScore']] # Cut it down to columns of interest\n",
    "cast"
   ]
  },
  {
   "cell_type": "code",
   "execution_count": null,
   "id": "b71a4024",
   "metadata": {},
   "outputs": [],
   "source": [
    "if x == 'All':\n",
    "    a = cast[cast['GradeLevelWhenAssessed'] == '05']\n",
    "    a['DFS'] = a['ScaleScore'] - 214\n",
    "    b = cast[cast['GradeLevelWhenAssessed'] == '08']\n",
    "    b['DFS'] = b['ScaleScore'] - 415\n",
    "    c = cast[cast['GradeLevelWhenAssessed'] == '10']\n",
    "    c['DFS'] = c['ScaleScore'] - 615\n",
    "    d = cast[cast['GradeLevelWhenAssessed'] == '11']\n",
    "    d['DFS'] = d['ScaleScore'] - 615\n",
    "    e = cast[cast['GradeLevelWhenAssessed'] == '12']\n",
    "    e['DFS'] = e['ScaleScore'] - 615\n",
    "    cast = pd.concat([a, b, c, d, e])\n",
    "elif x == 'Elementary':\n",
    "    a = cast[cast['GradeLevelWhenAssessed'] == '05']\n",
    "    a['DFS'] = a['ScaleScore'] - 214\n",
    "    cast = a\n",
    "elif x == 'Middle':\n",
    "    a = cast[cast['GradeLevelWhenAssessed'] =='08']\n",
    "    a['DFS'] = a['ScaleScore'] - 415\n",
    "    cast = a\n",
    "elif x == 'High':\n",
    "    c = cast[cast['GradeLevelWhenAssessed'] == '10']\n",
    "    c['DFS'] = c['ScaleScore'] - 615\n",
    "    d = cast[cast['GradeLevelWhenAssessed'] == '11']\n",
    "    d['DFS'] = d['ScaleScore'] - 615\n",
    "    e = cast[cast['GradeLevelWhenAssessed'] == '12']\n",
    "    e['DFS'] = e['ScaleScore'] - 615\n",
    "    cast = pd.concat([c, d, e])\n",
    "elif x == 'Secondary':\n",
    "    b = cast[cast['GradeLevelWhenAssessed'] == '08']\n",
    "    b['DFS'] = b['ScaleScore'] - 415\n",
    "    c = cast[cast['GradeLevelWhenAssessed'] == '10']\n",
    "    c['DFS'] = c['ScaleScore'] - 615\n",
    "    d = cast[cast['GradeLevelWhenAssessed'] == '11']\n",
    "    d['DFS'] = d['ScaleScore'] - 615\n",
    "    e = cast[cast['GradeLevelWhenAssessed'] == '12']\n",
    "    e['DFS'] = e['ScaleScore'] - 615\n",
    "    cast = pd.concat([b, c, d, e])"
   ]
  },
  {
   "cell_type": "code",
   "execution_count": null,
   "id": "dec0fc35",
   "metadata": {},
   "outputs": [],
   "source": [
    "cast"
   ]
  },
  {
   "cell_type": "markdown",
   "id": "2149fef2",
   "metadata": {},
   "source": [
    "## Site Calculations\n",
    "\n",
    "The site of interest will be asked. If there is any loss it will also be asked through an input. Then the average DFS will be calculated as well as a file generated with the raw data for each student."
   ]
  },
  {
   "cell_type": "code",
   "execution_count": null,
   "id": "5466b2cd",
   "metadata": {},
   "outputs": [],
   "source": [
    "q = input('What site are you interested in (ALL, Delano or Lost Hills?             )') # Input choice of site"
   ]
  },
  {
   "cell_type": "code",
   "execution_count": null,
   "id": "2fecd966",
   "metadata": {},
   "outputs": [],
   "source": [
    "if q == 'Delano': \n",
    "    cast = cast[(cast['School'] == 1) | (cast['School'] == 2) | (cast['School'] == 4)]\n",
    "elif q == 'Lost Hills':\n",
    "    cast = cast[(cast['School'] == 6) | (cast['School'] == 7) | (cast['School'] == 8)]\n",
    "elif q == 'All': #Selects all the schools at a site\n",
    "    cast = cast[(cast['School'] == 1) | (cast['School'] == 2) | (cast['School'] == 4) | \n",
    "                 (cast['School'] == 6) | (cast['School'] == 7) | (cast['School'] == 8)]"
   ]
  },
  {
   "cell_type": "code",
   "execution_count": null,
   "id": "81ccc731",
   "metadata": {},
   "outputs": [],
   "source": [
    "cast"
   ]
  },
  {
   "cell_type": "code",
   "execution_count": null,
   "id": "37e4f046",
   "metadata": {},
   "outputs": [],
   "source": [
    "m = cast['DFS'].sum() # Sums the DFS column\n",
    "m"
   ]
  },
  {
   "cell_type": "code",
   "execution_count": null,
   "id": "4e129035",
   "metadata": {},
   "outputs": [],
   "source": [
    "n = input(\"How many CAST loss:       \") # Allows an input for loss to be added in\n",
    "n = int(n)\n",
    "n"
   ]
  },
  {
   "cell_type": "code",
   "execution_count": null,
   "id": "050f3cd8",
   "metadata": {},
   "outputs": [],
   "source": [
    "loss = -65 * n # Creates a total for loss based on input\n",
    "loss"
   ]
  },
  {
   "cell_type": "code",
   "execution_count": null,
   "id": "7319cd7f",
   "metadata": {},
   "outputs": [],
   "source": [
    "o = len(cast) # Calculates the number of students that took the test\n",
    "o"
   ]
  },
  {
   "cell_type": "code",
   "execution_count": null,
   "id": "5d4c0d3c",
   "metadata": {},
   "outputs": [],
   "source": [
    "final_count = o + n # Creates a final count that included students and loss count\n",
    "final_count"
   ]
  },
  {
   "cell_type": "code",
   "execution_count": null,
   "id": "f507bc6e",
   "metadata": {},
   "outputs": [],
   "source": [
    "cast_dashboard = (m + loss) / (final_count) # Calculates dashboard prediction by dividing sum of DFS by count\n",
    "cast_dashboard"
   ]
  },
  {
   "cell_type": "code",
   "execution_count": null,
   "id": "9c581336",
   "metadata": {},
   "outputs": [],
   "source": [
    "import base64\n",
    "from IPython.display import HTML\n",
    "\n",
    "def create_download_link( df, title = \"CAST DFS\", filename = \"CAST DFS\"):\n",
    "    csv = df.to_csv(index=False)\n",
    "    b64 = base64.b64encode(csv.encode())\n",
    "    payload = b64.decode()\n",
    "    html = '<a download=\"{filename}\" href=\"data:text/csv;base64,{payload}\" target=\"_blank\">{title}</a>'\n",
    "    html = html.format(payload=payload,title=title,filename=filename)\n",
    "    return HTML(html)\n",
    "\n",
    "create_download_link(cast)"
   ]
  },
  {
   "cell_type": "code",
   "execution_count": null,
   "id": "169a20d6",
   "metadata": {},
   "outputs": [],
   "source": []
  }
 ],
 "metadata": {
  "kernelspec": {
   "display_name": "Python 3 (ipykernel)",
   "language": "python",
   "name": "python3"
  },
  "language_info": {
   "codemirror_mode": {
    "name": "ipython",
    "version": 3
   },
   "file_extension": ".py",
   "mimetype": "text/x-python",
   "name": "python",
   "nbconvert_exporter": "python",
   "pygments_lexer": "ipython3",
   "version": "3.9.7"
  }
 },
 "nbformat": 4,
 "nbformat_minor": 5
}
